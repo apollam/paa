{
 "cells": [
  {
   "cell_type": "markdown",
   "id": "e11db8eb-c96f-45e8-929c-04183d9764ca",
   "metadata": {},
   "source": [
    "# Minimum Spanning Tree (MST) / Árvore Geradora Mínima (AGM)"
   ]
  },
  {
   "cell_type": "markdown",
   "id": "cee4df9b-588f-49db-87f4-3d54437d6a45",
   "metadata": {},
   "source": [
    "```\n",
    "ALGORITMO-GENERICO(G, w):\n",
    "    A = 0\n",
    "    while A não é uma AGM:\n",
    "        ache uma aresta (u, v) que é segura para A\n",
    "        A = A U {(u, v)} \n",
    "    return A\n",
    "```\n",
    "\n",
    "O que vai mudar de algoritmo para algoritmo é a maneira como a aresta segura é encontrada."
   ]
  },
  {
   "cell_type": "markdown",
   "id": "85dcc4ac-32f1-4273-a40f-3fd63103125c",
   "metadata": {},
   "source": [
    "## KRUSKAL\n",
    "\n",
    "- Usa uma floresta de componentes, e basicamente vai conectando os componentes usando arestas seguras.\n",
    "- A estrutura de dados usada é um DISJOINT-SET\n",
    "- Cada SET contém os vértices em uma árvore da floresta atual. \n",
    "- A operação FIND-SET(u) retorna um elemento representativo do SET que contem u.\n",
    "- Portanto, para determinar se dois vértices u e v pertencem a mesma árvore, apenas testa se FIND-SET(u) é igual ao FIND-SET(v).\n",
    "- Para combinar as árvores, o algoritmo chama UNION."
   ]
  },
  {
   "cell_type": "markdown",
   "id": "24ea89c1-2645-4368-819d-6f2a3b063c56",
   "metadata": {},
   "source": [
    "### Criando a estrutura DISJOINT_SET"
   ]
  },
  {
   "cell_type": "code",
   "execution_count": 184,
   "id": "3406a780-1d05-4f9d-a21f-41dd381df0d0",
   "metadata": {},
   "outputs": [],
   "source": [
    "class DisjointSet:\n",
    "    def __init__(self):\n",
    "        self.parent = []\n",
    "        self.rank = []\n",
    "    \n",
    "    # make a and b part of the same component\n",
    "    # union by rank optimization\n",
    "    def union(self, a, b):\n",
    "        pa = self.find(a)\n",
    "        pb = self.find(b)\n",
    "        if pa == pb: return\n",
    "        if self.rank[pa] > self.rank[pb]:\n",
    "            self.parent[pb] = pa\n",
    "            self.rank[pa] += self.rank[pb]\n",
    "        else:\n",
    "            self.parent[pa] = pb\n",
    "            self.rank[pb] += self.rank[pa]\n",
    "    \n",
    "    # find the representative of the \n",
    "    # path compression optimization\n",
    "    def find(self, a):\n",
    "        if self.parent[a] == a:\n",
    "            return a\n",
    "        \n",
    "        self.parent[a] = self.find(self.parent[a])\n",
    "        return self.parent[a]"
   ]
  },
  {
   "cell_type": "markdown",
   "id": "3f19ca74-1162-4b86-b650-6afbeecda7ed",
   "metadata": {},
   "source": [
    "### Criando o grafo"
   ]
  },
  {
   "cell_type": "code",
   "execution_count": 124,
   "id": "3e3b86d8-7ef8-4586-abdb-df8586858f35",
   "metadata": {},
   "outputs": [],
   "source": [
    "\"\"\"Same as before however added method for listing edges\"\"\"\n",
    "\n",
    "class Node:  \n",
    "    def __init__(self, name, color=None, d=None, pi=None):\n",
    "        self.name = name\n",
    "        self.adj_list = []\n",
    "        self.color = color  # estado: visitado, não visitado, explorado\n",
    "        self.d = d  # distancia do vértice origem\n",
    "        self.pi = pi  # vértice predecessor\n",
    "\n",
    "class Graph:\n",
    "    def __init__(self, num_vertices=None, undirected=True):\n",
    "        self.num_vertices = num_vertices\n",
    "        self.nodes = [Node(v) for v in range(num_vertices)]\n",
    "        self.undirected = undirected\n",
    "               \n",
    "    def add_edge(self, source, dest, weight):\n",
    "        self.nodes[source].adj_list.append((self.nodes[dest], weight))\n",
    "        if self.undirected:\n",
    "            self.nodes[dest].adj_list.append((self.nodes[source], weight))\n",
    "        \n",
    "    def print(self):\n",
    "        for node in self.nodes:\n",
    "            print(f\"Node {node.name} -> {[(n.name, w) for n, w in node.adj_list]}\")\n",
    "            \n",
    "    def get_list_edges(self):\n",
    "        edges = []\n",
    "        for u in self.nodes:\n",
    "            for v, w in u.adj_list:\n",
    "                if self.undirected:  # So it won't repeat edges\n",
    "                    first = min(u.name, v.name)\n",
    "                    second = v.name if first == u.name else u.name\n",
    "                    edge = (first, second, w)\n",
    "                    edges.append(edge) if edge not in edges else None\n",
    "                else:\n",
    "                    edges.append((u.name, v.name, w))\n",
    "\n",
    "        return edges\n",
    "    \n",
    "    def get_sorted_list_edges(self):\n",
    "        edges = self.get_list_edges()\n",
    "        return sorted(edges, key=lambda tup: tup[2])\n"
   ]
  },
  {
   "cell_type": "markdown",
   "id": "a9560f00-3a2b-4a88-943c-b7adcdac13c9",
   "metadata": {},
   "source": [
    "<img src=\"./img/weighet_graph.png\" alt=\"drawing\" width=\"400\"/>"
   ]
  },
  {
   "cell_type": "code",
   "execution_count": 188,
   "id": "195ce759-b273-499c-a559-9b0e2e8d98df",
   "metadata": {},
   "outputs": [
    {
     "name": "stdout",
     "output_type": "stream",
     "text": [
      "Node 0 -> [(1, 3), (3, 7), (4, 8)]\n",
      "Node 1 -> [(0, 3), (2, 1), (3, 4)]\n",
      "Node 2 -> [(1, 1), (3, 2)]\n",
      "Node 3 -> [(0, 7), (1, 4), (2, 2), (4, 3)]\n",
      "Node 4 -> [(0, 8), (3, 3)]\n"
     ]
    }
   ],
   "source": [
    "g = Graph(5)\n",
    "g.add_edge(0, 1, 3)\n",
    "g.add_edge(0, 3, 7)\n",
    "g.add_edge(0, 4, 8)\n",
    "g.add_edge(1, 2, 1)\n",
    "g.add_edge(1, 3, 4)\n",
    "g.add_edge(2, 3, 2)\n",
    "g.add_edge(3, 4, 3)\n",
    "g.print()"
   ]
  },
  {
   "cell_type": "code",
   "execution_count": 189,
   "id": "f719f047-a227-44ce-bbd1-c9b558eb2992",
   "metadata": {},
   "outputs": [
    {
     "data": {
      "text/plain": [
       "[(0, 1, 3), (0, 3, 7), (0, 4, 8), (1, 2, 1), (1, 3, 4), (2, 3, 2), (3, 4, 3)]"
      ]
     },
     "execution_count": 189,
     "metadata": {},
     "output_type": "execute_result"
    }
   ],
   "source": [
    "g.get_list_edges()"
   ]
  },
  {
   "cell_type": "code",
   "execution_count": 190,
   "id": "311c80db-7837-4955-86ea-31118f5cfbc3",
   "metadata": {},
   "outputs": [
    {
     "data": {
      "text/plain": [
       "[(1, 2, 1), (2, 3, 2), (0, 1, 3), (3, 4, 3), (1, 3, 4), (0, 3, 7), (0, 4, 8)]"
      ]
     },
     "execution_count": 190,
     "metadata": {},
     "output_type": "execute_result"
    }
   ],
   "source": [
    "g.get_sorted_list_edges()"
   ]
  },
  {
   "cell_type": "markdown",
   "id": "094ee241-424e-4cff-8cef-642b04b1cf65",
   "metadata": {
    "tags": []
   },
   "source": [
    "## Algoritmo\n",
    "\n",
    "ref: https://www.geeksforgeeks.org/kruskals-minimum-spanning-tree-algorithm-greedy-algo-2/"
   ]
  },
  {
   "cell_type": "code",
   "execution_count": 191,
   "id": "c1b865e5-58e3-4dc6-909d-4e55f6006df0",
   "metadata": {},
   "outputs": [],
   "source": [
    "def MST_Kruskall(G):\n",
    "    A = set()\n",
    "\n",
    "    DS = DisjointSet()\n",
    "    for v in G.nodes:\n",
    "        DS.parent.append(v.name)\n",
    "        DS.rank.append(0)\n",
    "\n",
    "    min_cost = 0\n",
    "    edges = G.get_list_edges()\n",
    "    ordered_edges = G.get_sorted_list_edges()\n",
    "    for u, v, w in ordered_edges:\n",
    "        if DS.find(u) != DS.find(v):\n",
    "            A = A.union((u, v))\n",
    "            DS.union(u, v)\n",
    "            min_cost += w\n",
    "            print(f\"{u} -- {v} == {w}\")\n",
    "    print(\"Minimum Spanning Tree:\", min_cost)\n",
    "    return A"
   ]
  },
  {
   "cell_type": "code",
   "execution_count": 193,
   "id": "dde3fdbd-c791-4c4e-9e9a-83f7b34f559f",
   "metadata": {},
   "outputs": [
    {
     "name": "stdout",
     "output_type": "stream",
     "text": [
      "1 -- 2 == 1\n",
      "2 -- 3 == 2\n",
      "0 -- 1 == 3\n",
      "3 -- 4 == 3\n",
      "Minimum Spanning Tree: 9\n"
     ]
    },
    {
     "data": {
      "text/plain": [
       "{0, 1, 2, 3, 4}"
      ]
     },
     "execution_count": 193,
     "metadata": {},
     "output_type": "execute_result"
    }
   ],
   "source": [
    "MST_Kruskall(g)"
   ]
  },
  {
   "cell_type": "code",
   "execution_count": 195,
   "id": "6feef217-ca47-4624-8aab-4426bfdea224",
   "metadata": {},
   "outputs": [
    {
     "name": "stdout",
     "output_type": "stream",
     "text": [
      "1 -- 2 == 1\n",
      "2 -- 3 == 2\n",
      "3 -- 4 == 3\n",
      "0 -- 3 == 7\n",
      "Minimum Spanning Tree: 13\n"
     ]
    },
    {
     "data": {
      "text/plain": [
       "{0, 1, 2, 3, 4}"
      ]
     },
     "execution_count": 195,
     "metadata": {},
     "output_type": "execute_result"
    }
   ],
   "source": [
    "g2 = Graph(5)\n",
    "g2.add_edge(0, 1, 12)\n",
    "g2.add_edge(0, 3, 7)\n",
    "g2.add_edge(0, 4, 8)\n",
    "g2.add_edge(1, 2, 1)\n",
    "g2.add_edge(1, 3, 4)\n",
    "g2.add_edge(2, 3, 2)\n",
    "g2.add_edge(3, 4, 3)\n",
    "\n",
    "MST_Kruskall(g2)"
   ]
  },
  {
   "cell_type": "code",
   "execution_count": null,
   "id": "f668337b-6a06-49cb-91a4-ba9307d20386",
   "metadata": {},
   "outputs": [],
   "source": []
  },
  {
   "cell_type": "code",
   "execution_count": null,
   "id": "b6d20d8a-1260-48e7-8815-582966c79e7a",
   "metadata": {},
   "outputs": [],
   "source": []
  },
  {
   "cell_type": "code",
   "execution_count": null,
   "id": "9c53a86d-1e21-4028-a540-8cda316fbafd",
   "metadata": {},
   "outputs": [],
   "source": []
  }
 ],
 "metadata": {
  "kernelspec": {
   "display_name": "Python 3 (ipykernel)",
   "language": "python",
   "name": "python3"
  },
  "language_info": {
   "codemirror_mode": {
    "name": "ipython",
    "version": 3
   },
   "file_extension": ".py",
   "mimetype": "text/x-python",
   "name": "python",
   "nbconvert_exporter": "python",
   "pygments_lexer": "ipython3",
   "version": "3.8.5"
  }
 },
 "nbformat": 4,
 "nbformat_minor": 5
}

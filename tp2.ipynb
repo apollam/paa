{
 "cells": [
  {
   "cell_type": "code",
   "execution_count": 1,
   "id": "92787da0-fdf0-4f4d-a90b-6cd1a78cddb0",
   "metadata": {},
   "outputs": [],
   "source": [
    "inp = \"\"\"e2 e4\n",
    "a1 b2\n",
    "b2 c3\n",
    "a1 h8\n",
    "a1 h7\n",
    "h8 a1\n",
    "b1 c3\n",
    "f6 f6\"\"\""
   ]
  },
  {
   "cell_type": "code",
   "execution_count": 10,
   "id": "b1c993e3-0870-4b14-a7b2-04f7be3130ac",
   "metadata": {},
   "outputs": [],
   "source": [
    "a = \"e2\"\n",
    "b = \"e4\"\n",
    "\n",
    "X = a + b\n"
   ]
  },
  {
   "cell_type": "code",
   "execution_count": 46,
   "id": "5e738355-62be-4ed4-bb5c-7ba6e5c73f1b",
   "metadata": {},
   "outputs": [],
   "source": [
    "# Queue implementation in Python\n",
    "import logging\n",
    "class Queue:\n",
    "\n",
    "    def __init__(self):\n",
    "        self.queue = []\n",
    "\n",
    "    # Add an element\n",
    "    def enqueue(self, item):\n",
    "        self.queue.append(item)\n",
    "\n",
    "    # Remove an element\n",
    "    def dequeue(self):\n",
    "        if len(self.queue) < 1:\n",
    "            return None\n",
    "        return self.queue.pop(0)\n",
    "\n",
    "    # Display  the queue\n",
    "    def display(self):\n",
    "         print([(v.x, v.y) for v in self.queue])\n",
    "\n",
    "    def size(self):\n",
    "        return len(self.queue)"
   ]
  },
  {
   "cell_type": "code",
   "execution_count": 47,
   "id": "be5b947c-d311-4328-8b0b-93acc1f91195",
   "metadata": {},
   "outputs": [
    {
     "name": "stdout",
     "output_type": "stream",
     "text": [
      "matrix of dimension 8 x 8 is [[0, 0, 0, 0, 0, 0, 0, 0], [0, 0, 0, 0, 0, 0, 0, 0], [0, 0, 0, 0, 0, 0, 0, 0], [0, 0, 0, 0, 0, 0, 0, 0], [0, 0, 0, 0, 0, 0, 0, 0], [0, 0, 0, 0, 0, 0, 0, 0], [0, 0, 0, 0, 0, 0, 0, 0], [0, 0, 0, 0, 0, 0, 0, 0]]\n"
     ]
    }
   ],
   "source": [
    "rows = 8\n",
    "cols = 8\n",
    "mat = [[0 for _ in range(cols)] for _ in range(rows)]\n",
    "print(f'matrix of dimension {rows} x {cols} is {mat}')"
   ]
  },
  {
   "cell_type": "code",
   "execution_count": 78,
   "id": "82fca53b-8fa7-4c7c-9f60-b4db2faddfc2",
   "metadata": {},
   "outputs": [],
   "source": [
    "horse_direction = [[-1, 2], [1, 2], [2, 1], [2, -1], [1, -2], [-1, -2], [-2, -1], [-2, 1]]\n",
    "m = 0\n",
    "q = 0\n",
    "\n",
    "class Node:\n",
    "    def __init__(self):\n",
    "        self.x = None\n",
    "        self.y = None\n",
    "        self.step = None\n",
    "        self.color = 'white'\n",
    "        \n",
    "def bfs(a, b, step):\n",
    "\n",
    "    Q = Queue()\n",
    "    now = Node()\n",
    "    after = Node()\n",
    "    \n",
    "    now.x = get_dic()[a[0]]\n",
    "    now.y = int(a[1])-1\n",
    "    now.step = step \n",
    "    print('opa')\n",
    "    print(now.x, now.y)\n",
    "    \n",
    "    Q.enqueue(now)\n",
    "    while Q.queue != []:\n",
    "        now = Q.dequeue()\n",
    "        \n",
    "        if (now.x == get_dic()[b[0]]) & (now.y == int(b[1])-1):\n",
    "            return f\"Takes {now.step} knight moves.\"\n",
    "        \n",
    "        for k in range(8):\n",
    "            \n",
    "            tx = now.x + horse_direction[k][0]\n",
    "            ty = now.y + horse_direction[k][1]\n",
    "            print(tx, ty)\n",
    "            \n",
    "            if tx < 1 | ty < 1 | tx > 8 | ty > 8 | now.color == 'gray':\n",
    "                print('aki')\n",
    "                continue\n",
    "                \n",
    "            if now.color == 'white':\n",
    "                after.x = tx\n",
    "                after.y = ty\n",
    "                after.step = now.step + 1\n",
    "                after.color = 'gray'\n",
    "                \n",
    "                Q.enqueue(after)\n",
    "                Q.display()\n",
    "                break\n",
    "\n",
    "def get_dic():\n",
    "    return  {\n",
    "        \"a\": 0,\n",
    "        \"b\": 1,\n",
    "        \"c\": 2,\n",
    "        \"d\": 3,\n",
    "        \"e\": 4,\n",
    "        \"f\": 5,\n",
    "        \"g\": 6,\n",
    "        \"h\": 7\n",
    "    }"
   ]
  },
  {
   "cell_type": "code",
   "execution_count": 79,
   "id": "2d65d857-9848-44db-ae95-af2f00b7194b",
   "metadata": {},
   "outputs": [
    {
     "name": "stdout",
     "output_type": "stream",
     "text": [
      "opa\n",
      "4 1\n",
      "3 3\n",
      "[(3, 3)]\n",
      "2 5\n",
      "4 5\n",
      "5 4\n",
      "5 2\n",
      "4 1\n",
      "2 1\n",
      "1 2\n",
      "1 4\n"
     ]
    }
   ],
   "source": [
    "a = \"e2\"\n",
    "b = \"e4\"\n",
    "\n",
    "bfs(a, b, 0)"
   ]
  },
  {
   "cell_type": "code",
   "execution_count": 37,
   "id": "ee215894-5a5e-43e6-82be-bde42722cd7a",
   "metadata": {},
   "outputs": [
    {
     "data": {
      "text/plain": [
       "4"
      ]
     },
     "execution_count": 37,
     "metadata": {},
     "output_type": "execute_result"
    }
   ],
   "source": [
    "x = dic[a[0]]\n",
    "x"
   ]
  },
  {
   "cell_type": "code",
   "execution_count": 32,
   "id": "8a7df09e-3bc2-4ce0-bc74-2fc50ee8e0ee",
   "metadata": {},
   "outputs": [
    {
     "data": {
      "text/plain": [
       "0"
      ]
     },
     "execution_count": 32,
     "metadata": {},
     "output_type": "execute_result"
    }
   ],
   "source": [
    "x = a\n",
    "if x[0]=='e': \n",
    "    p=0\n",
    "p"
   ]
  },
  {
   "cell_type": "code",
   "execution_count": null,
   "id": "e0d0c238-ee56-4ba4-a55d-4957c63caaf0",
   "metadata": {
    "tags": []
   },
   "outputs": [],
   "source": [
    "#include<stdio.h>\n",
    "#include<string.h>\n",
    "#include<algorithm>\n",
    "#include<queue>\n",
    "using namespace std;\n",
    "int p,q,book[100][100],n,m;\n",
    "char a,b;\n",
    "int dir[8][2]={{-1,2},{1,2},{2,1},{2,-1},{1,-2},{-1,-2},{-2,-1},{-2,1}};\n",
    "struct node\n",
    "{\n",
    "    int x;\n",
    "    int y;\n",
    "    int step;\n",
    "};\n",
    "\n",
    "void bfs(int x,int y,int step)\n",
    "{\n",
    "    memset(book,0,sizeof(book));\n",
    "    queue<node>Q;\n",
    "    node now,next;\n",
    "    book[x][y]=1;\n",
    "    now.x=x;\n",
    "    now.y=y;\n",
    "    now.step=step;\n",
    "    Q.push(now);\n",
    "    while(!Q.empty())\n",
    "    {\n",
    "        \n",
    "        now=Q.front();\n",
    "        Q.pop();\n",
    "        if(now.x==q&&now.y==m)\n",
    "        {\n",
    "            printf(\"To get from %c%d to %c%d takes %d knight moves.\\n\",a,n,b,m,now.step);\n",
    "            return ;\n",
    "        }\n",
    "        for(int k=0;k<8;k++)\n",
    "        {\n",
    "            int tx=now.x+dir[k][0];\n",
    "            int ty=now.y+dir[k][1];\n",
    "            if(tx<1||ty<1||tx>8||ty>8||book[tx][ty])\n",
    "                continue;\n",
    "            if(book[tx][ty]==0)\n",
    "            {\n",
    "                book[tx][ty]=1;\n",
    "                next.x=tx;\n",
    "                next.y=ty;\n",
    "                next.step=now.step+1;\n",
    "                Q.push(next);\n",
    "            }\n",
    "        }\n",
    "    }\n",
    "}\n",
    "\n",
    "int main()\n",
    "{\n",
    "    while(~scanf(\"%c%d %c%d\",&a,&n,&b,&m))\n",
    "    {\n",
    "        getchar();\n",
    "        memset(book,0,sizeof(book));\n",
    "        p=a-'a'+1;\n",
    "        q=b-'a'+1;\n",
    "        bfs(p,n,0);\n",
    "    }\n",
    "    return 0;\n",
    "}"
   ]
  },
  {
   "cell_type": "code",
   "execution_count": null,
   "id": "17382216-88ea-4f16-9aec-81bc91ad5995",
   "metadata": {},
   "outputs": [],
   "source": []
  }
 ],
 "metadata": {
  "kernelspec": {
   "display_name": "Python 3 (ipykernel)",
   "language": "python",
   "name": "python3"
  },
  "language_info": {
   "codemirror_mode": {
    "name": "ipython",
    "version": 3
   },
   "file_extension": ".py",
   "mimetype": "text/x-python",
   "name": "python",
   "nbconvert_exporter": "python",
   "pygments_lexer": "ipython3",
   "version": "3.8.5"
  }
 },
 "nbformat": 4,
 "nbformat_minor": 5
}

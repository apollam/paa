{
 "cells": [
  {
   "cell_type": "markdown",
   "id": "e42ac325-4938-41d0-bb37-e4ce139ef532",
   "metadata": {},
   "source": [
    "# 1655 \n",
    "\n",
    "In the movie \"Blues Brothers\", the orphanage where Elwood and Jake were raised may be sold to the Board of Education if they do not pay 5000 dollars in taxes at the Cook County Assessor's Office in Chicago. After playing a gig in the Palace Hotel ballroom to earn these 5000 dollars, they have to find a way to Chicago. However, this is not so easy as it sounds, since they are chased by the Police, a country band and a group of Nazis. Moreover, it is 106 miles to Chicago, it is dark and they are wearing sunglasses.\n",
    "\n",
    "As they are on a mission from God, you should help them find the safest way to Chicago. In this problem, the safest way is considered to be the route which maximises the probability that they are not caught."
   ]
  },
  {
   "cell_type": "markdown",
   "id": "49634c8b-fd90-4632-b3b7-d5205a66a0ca",
   "metadata": {},
   "source": [
    "## Input\n",
    "\n",
    "The input file contains several test cases.\n",
    "\n",
    "Each test case starts with two integers n and m (2 ≤ n ≤ 100 , 1 ≤ m ≤ n*(n-1)/2). n is the number of intersections, m is the number of streets to be considered.\n",
    "\n",
    "The next m lines contain the description of the streets. Each street is described by a line containing 3 integers a, b and p (1 ≤ a, b ≤ n , a ≠ b, 1 ≤ p ≤ 100): a and b are the two end points of the street and p is the probability in percent that the Blues Brothers will manage to use this street without being caught. Each street can be used in both directions. You may assume that there is at most one street between two end points.\n",
    "\n",
    "The last test case is followed by a zero.\n",
    "\n",
    "Obs.: The safest path for the sample input is 1 -> 4 -> 3 -> 5"
   ]
  },
  {
   "cell_type": "markdown",
   "id": "9f9b7d4a-8106-45d0-b21a-c81f4d697dc9",
   "metadata": {},
   "source": [
    "- n = arestas\n",
    "- m = vértices\n",
    "\n",
    "- a = vertice source\n",
    "- b = vertice destino\n",
    "- p = peso"
   ]
  },
  {
   "cell_type": "markdown",
   "id": "aae92324-f033-467b-8242-7afdc7318b69",
   "metadata": {},
   "source": [
    "## Output\n",
    "\n",
    "For each test case, calculate the probability of the safest path from intersection 1 (the Palace Hotel) to intersection n (the Honorable Richard J. Daley Plaza in Chicago). You can assume that there is at least one path between intersection 1 and n.\n",
    "\n",
    "Print the probability as a percentage with exactly 6 digits after the decimal point. The percentage value is considered correct if it differs by at most 10-6 from the judge output. Adhere to the format shown below and print one line for each test case."
   ]
  },
  {
   "cell_type": "markdown",
   "id": "8677ad0e-f968-4bf0-9c0a-00e332ede276",
   "metadata": {},
   "source": [
    "- safest path from 1 to n\n",
    "- print as a percentage of 6 digits after ,. "
   ]
  },
  {
   "cell_type": "markdown",
   "id": "e3e608a7-1bba-4e59-b933-c294db15476e",
   "metadata": {
    "tags": []
   },
   "source": [
    "## Developtment"
   ]
  },
  {
   "cell_type": "code",
   "execution_count": 29,
   "id": "e330e88c-4483-449d-a8b1-65dbe009a080",
   "metadata": {},
   "outputs": [
    {
     "data": {
      "text/plain": [
       "['5 7',\n",
       " '5 2 100',\n",
       " '3 5 8',\n",
       " '2 3 70',\n",
       " '2 1 50',\n",
       " '3 4 90',\n",
       " '4 1 8',\n",
       " '3 1 70',\n",
       " '0',\n",
       " '']"
      ]
     },
     "execution_count": 29,
     "metadata": {},
     "output_type": "execute_result"
    }
   ],
   "source": [
    "with open(\"input\", \"r\") as f:\n",
    "    inpts = f.read()\n",
    "    inpts = inpts.split('\\n')\n",
    "\n",
    "inpts"
   ]
  },
  {
   "cell_type": "code",
   "execution_count": 39,
   "id": "2cc60102-09df-41a0-8cf0-3b7ca6f5880f",
   "metadata": {},
   "outputs": [],
   "source": [
    "\"\"\"Same as before however added method for listing edges\"\"\"\n",
    "\n",
    "class Node:  \n",
    "    def __init__(self, name, color=None, d=None, pi=None):\n",
    "        self.name = name\n",
    "        self.adj_list = []\n",
    "        self.color = color  # estado: visitado, não visitado, explorado\n",
    "        self.d = d  # distancia do vértice origem\n",
    "        self.pi = pi  # vértice predecessor\n",
    "\n",
    "class Graph:\n",
    "    def __init__(self, num_vertices=None, undirected=True):\n",
    "        self.num_vertices = num_vertices\n",
    "        self.nodes = [Node(v) for v in range(num_vertices)]\n",
    "        self.undirected = undirected\n",
    "               \n",
    "    def add_edge(self, source, dest, weight):\n",
    "        self.nodes[source].adj_list.append((self.nodes[dest], weight))\n",
    "        if self.undirected:\n",
    "            self.nodes[dest].adj_list.append((self.nodes[source], weight))\n",
    "        \n",
    "    def print(self):\n",
    "        for node in self.nodes:\n",
    "            print(f\"Node {node.name} -> {[(n.name, w) for n, w in node.adj_list]}\")\n",
    "            \n",
    "    def get_list_edges(self):\n",
    "        edges = []\n",
    "        for u in self.nodes:\n",
    "            for v, w in u.adj_list:\n",
    "                if self.undirected:  # So it won't repeat edges\n",
    "                    first = min(u.name, v.name)\n",
    "                    second = v.name if first == u.name else u.name\n",
    "                    edge = (first, second, w)\n",
    "                    edges.append(edge) if edge not in edges else None\n",
    "                else:\n",
    "                    edges.append((u.name, v.name, w))\n",
    "\n",
    "        return edges\n",
    "    \n",
    "    def get_sorted_list_edges(self):\n",
    "        edges = self.get_list_edges()\n",
    "        return sorted(edges, key=lambda tup: tup[2])\n"
   ]
  },
  {
   "cell_type": "code",
   "execution_count": 53,
   "id": "7944337f-90aa-4571-a07c-69901dcedb4c",
   "metadata": {},
   "outputs": [],
   "source": [
    "counter = 0\n",
    "for inpt in inpts:\n",
    "    counter += 1\n",
    "    if counter == 1:\n",
    "        n = int(inpt[0])\n",
    "        m = int(inpt[2])\n",
    "        g = Graph(m)\n",
    "    elif inpt == '0':\n",
    "        break\n",
    "    else:\n",
    "        a = int(inpt[0])\n",
    "        b = int(inpt[2])\n",
    "        p = int(inpt[4:])\n",
    "        g.add_edge(a, b, p)\n",
    "del counter, a, b, p, m"
   ]
  },
  {
   "cell_type": "code",
   "execution_count": 49,
   "id": "9344da6b-4681-4c6e-850e-128d1530610d",
   "metadata": {},
   "outputs": [
    {
     "data": {
      "text/plain": [
       "[(1, 2, 50),\n",
       " (1, 4, 8),\n",
       " (1, 3, 70),\n",
       " (2, 5, 100),\n",
       " (2, 3, 70),\n",
       " (3, 5, 8),\n",
       " (3, 4, 90)]"
      ]
     },
     "execution_count": 49,
     "metadata": {},
     "output_type": "execute_result"
    }
   ],
   "source": [
    "g.get_list_edges()"
   ]
  },
  {
   "cell_type": "code",
   "execution_count": 38,
   "id": "3bb4bd74-a01a-4eb0-bfeb-821da183a27a",
   "metadata": {},
   "outputs": [],
   "source": [
    "class DisjointSet:\n",
    "    def __init__(self):\n",
    "        self.parent = []\n",
    "        self.rank = []\n",
    "    \n",
    "    # make a and b part of the same component\n",
    "    # union by rank optimization\n",
    "    def union(self, a, b):\n",
    "        pa = self.find(a)\n",
    "        pb = self.find(b)\n",
    "        if pa == pb: return\n",
    "        if self.rank[pa] > self.rank[pb]:\n",
    "            self.parent[pb] = pa\n",
    "            self.rank[pa] += self.rank[pb]\n",
    "        else:\n",
    "            self.parent[pa] = pb\n",
    "            self.rank[pb] += self.rank[pa]\n",
    "    \n",
    "    # find the representative of the \n",
    "    # path compression optimization\n",
    "    def find(self, a):\n",
    "        if self.parent[a] == a:\n",
    "            return a\n",
    "        \n",
    "        self.parent[a] = self.find(self.parent[a])\n",
    "        return self.parent[a]"
   ]
  },
  {
   "cell_type": "code",
   "execution_count": 61,
   "id": "87d02a36-6a44-49b6-8b86-f04845210f4c",
   "metadata": {},
   "outputs": [],
   "source": [
    "def MST_Kruskall(G):\n",
    "    A = set()\n",
    "\n",
    "    DS = DisjointSet()\n",
    "    for v in G.nodes:\n",
    "        DS.parent.append(v.name)\n",
    "        DS.rank.append(0)\n",
    "\n",
    "    min_cost = 0\n",
    "    ordered_edges = G.get_sorted_list_edges()\n",
    "    for u, v, w in ordered_edges:\n",
    "        if DS.find(u) != DS.find(v):\n",
    "            A = A.union((u, v))\n",
    "            DS.union(u, v)\n",
    "            min_cost += 100 - w\n",
    "            print(f\"{u} -- {v} == {w}\")\n",
    "    print(\"Minimum Spanning Tree:\", min_cost)\n",
    "    \n",
    "    return A"
   ]
  },
  {
   "cell_type": "code",
   "execution_count": 62,
   "id": "79431d78-18d6-42df-af80-60fc474b6292",
   "metadata": {},
   "outputs": [
    {
     "name": "stdout",
     "output_type": "stream",
     "text": [
      "1 -- 4 == 8\n",
      "3 -- 5 == 8\n",
      "1 -- 2 == 50\n",
      "1 -- 3 == 70\n",
      "Minimum Spanning Tree: 264\n"
     ]
    },
    {
     "data": {
      "text/plain": [
       "{1, 2, 3, 4, 5}"
      ]
     },
     "execution_count": 62,
     "metadata": {},
     "output_type": "execute_result"
    }
   ],
   "source": [
    "MST_Kruskall(g)"
   ]
  },
  {
   "cell_type": "code",
   "execution_count": null,
   "id": "129071cc-90cd-4836-b69c-558685725665",
   "metadata": {},
   "outputs": [],
   "source": [
    "def run(m, n, a, b, p):\n",
    "    \n",
    "    "
   ]
  },
  {
   "cell_type": "code",
   "execution_count": 37,
   "id": "8aabac81-5aaf-4152-b770-866666f5b772",
   "metadata": {},
   "outputs": [
    {
     "data": {
      "text/plain": [
       "5"
      ]
     },
     "execution_count": 37,
     "metadata": {},
     "output_type": "execute_result"
    }
   ],
   "source": [
    "n"
   ]
  },
  {
   "cell_type": "code",
   "execution_count": 22,
   "id": "5d23046b-0434-4752-8e86-eff93decb5b5",
   "metadata": {},
   "outputs": [],
   "source": [
    "n = int(inpt[0][0])\n",
    "m = int(inpt[0][2])"
   ]
  },
  {
   "cell_type": "code",
   "execution_count": null,
   "id": "86609c6f-412e-4c17-86cd-8b38d0d61a14",
   "metadata": {},
   "outputs": [],
   "source": []
  }
 ],
 "metadata": {
  "kernelspec": {
   "display_name": "Python 3 (ipykernel)",
   "language": "python",
   "name": "python3"
  },
  "language_info": {
   "codemirror_mode": {
    "name": "ipython",
    "version": 3
   },
   "file_extension": ".py",
   "mimetype": "text/x-python",
   "name": "python",
   "nbconvert_exporter": "python",
   "pygments_lexer": "ipython3",
   "version": "3.8.5"
  }
 },
 "nbformat": 4,
 "nbformat_minor": 5
}

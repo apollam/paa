{
 "cells": [
  {
   "cell_type": "code",
   "execution_count": 18,
   "id": "6b695c86",
   "metadata": {
    "execution": {
     "iopub.execute_input": "2022-05-25T22:15:46.399673Z",
     "iopub.status.busy": "2022-05-25T22:15:46.399401Z",
     "iopub.status.idle": "2022-05-25T22:15:46.405079Z",
     "shell.execute_reply": "2022-05-25T22:15:46.403805Z",
     "shell.execute_reply.started": "2022-05-25T22:15:46.399644Z"
    }
   },
   "outputs": [],
   "source": [
    "def read_input():\n",
    "    f = open(\"input\", \"r\").readlines()\n",
    "    f = [i.strip('\\n') for i in f]\n",
    "    f = [[i[0:2], i[3:5]] for i in f]\n",
    "    return f"
   ]
  },
  {
   "cell_type": "code",
   "execution_count": 45,
   "id": "d90fa3d8",
   "metadata": {
    "execution": {
     "iopub.execute_input": "2022-05-25T22:33:19.570219Z",
     "iopub.status.busy": "2022-05-25T22:33:19.569953Z",
     "iopub.status.idle": "2022-05-25T22:33:19.577958Z",
     "shell.execute_reply": "2022-05-25T22:33:19.577305Z",
     "shell.execute_reply.started": "2022-05-25T22:33:19.570191Z"
    }
   },
   "outputs": [
    {
     "data": {
      "text/plain": [
       "['e2', 'e4']"
      ]
     },
     "execution_count": 45,
     "metadata": {},
     "output_type": "execute_result"
    }
   ],
   "source": [
    "inp = read_input()\n",
    "baby = ['e2', 'e4']\n",
    "baby"
   ]
  },
  {
   "cell_type": "code",
   "execution_count": 76,
   "id": "9cd3ab0f",
   "metadata": {
    "execution": {
     "iopub.execute_input": "2022-05-25T22:44:59.352465Z",
     "iopub.status.busy": "2022-05-25T22:44:59.352200Z",
     "iopub.status.idle": "2022-05-25T22:44:59.364019Z",
     "shell.execute_reply": "2022-05-25T22:44:59.362935Z",
     "shell.execute_reply.started": "2022-05-25T22:44:59.352434Z"
    }
   },
   "outputs": [
    {
     "ename": "AttributeError",
     "evalue": "'dict' object has no attribute 'replace'",
     "output_type": "error",
     "traceback": [
      "\u001b[0;31m---------------------------------------------------------------------------\u001b[0m",
      "\u001b[0;31mAttributeError\u001b[0m                            Traceback (most recent call last)",
      "\u001b[0;32m/var/folders/sc/gt5r1j8n3zd1227fm3x681cm0000gn/T/ipykernel_30875/450440423.py\u001b[0m in \u001b[0;36m<module>\u001b[0;34m\u001b[0m\n\u001b[1;32m     10\u001b[0m     \u001b[0;34m'h'\u001b[0m\u001b[0;34m:\u001b[0m \u001b[0;34m[\u001b[0m\u001b[0;36m0\u001b[0m\u001b[0;34m]\u001b[0m\u001b[0;34m*\u001b[0m\u001b[0;36m8\u001b[0m\u001b[0;34m,\u001b[0m\u001b[0;34m\u001b[0m\u001b[0;34m\u001b[0m\u001b[0m\n\u001b[1;32m     11\u001b[0m }\n\u001b[0;32m---> 12\u001b[0;31m tabuleiro.replace({\n\u001b[0m\u001b[1;32m     13\u001b[0m     \u001b[0;34m'a'\u001b[0m\u001b[0;34m:\u001b[0m \u001b[0;36m0\u001b[0m\u001b[0;34m,\u001b[0m\u001b[0;34m\u001b[0m\u001b[0;34m\u001b[0m\u001b[0m\n\u001b[1;32m     14\u001b[0m     \u001b[0;34m'b'\u001b[0m\u001b[0;34m:\u001b[0m \u001b[0;36m1\u001b[0m\u001b[0;34m,\u001b[0m\u001b[0;34m\u001b[0m\u001b[0;34m\u001b[0m\u001b[0m\n",
      "\u001b[0;31mAttributeError\u001b[0m: 'dict' object has no attribute 'replace'"
     ]
    }
   ],
   "source": [
    "horse_moves = [[-1,-2],[-2,-1],[-2,1],[-1,2],[1,2],[2,1],[2,-1],[1,-2]]\n",
    "tabuleiro = {\n",
    "    'a': [0]*8, \n",
    "    'b': [0]*8, \n",
    "    'c': [0]*8, \n",
    "    'd': [0]*8, \n",
    "    'e': [0]*8, \n",
    "    'f': [0]*8, \n",
    "    'g': [0]*8, \n",
    "    'h': [0]*8, \n",
    "}\n",
    "tabuleiro.replace({\n",
    "    'a': 0, \n",
    "    'b': 1, \n",
    "    'c': 2, \n",
    "    'd': 3, \n",
    "    'e': 4, \n",
    "    'f': 5, \n",
    "    'g': 6, \n",
    "    'h': 7, \n",
    "})"
   ]
  },
  {
   "cell_type": "code",
   "execution_count": 74,
   "id": "d7bc9e6c",
   "metadata": {
    "execution": {
     "iopub.execute_input": "2022-05-25T22:43:56.882371Z",
     "iopub.status.busy": "2022-05-25T22:43:56.882130Z",
     "iopub.status.idle": "2022-05-25T22:43:56.888488Z",
     "shell.execute_reply": "2022-05-25T22:43:56.887447Z",
     "shell.execute_reply.started": "2022-05-25T22:43:56.882346Z"
    }
   },
   "outputs": [
    {
     "data": {
      "text/plain": [
       "{'a': [0, 0, 0, 0, 0, 0, 0, 0],\n",
       " 'b': [0, 0, 0, 0, 0, 0, 0, 0],\n",
       " 'c': [0, 0, 0, 0, 0, 0, 0, 0],\n",
       " 'd': [0, 0, 0, 0, 0, 0, 0, 0],\n",
       " 'e': [0, 0, 0, 0, 0, 0, 0, 0],\n",
       " 'f': [0, 0, 0, 0, 0, 0, 0, 0],\n",
       " 'g': [0, 0, 0, 0, 0, 0, 0, 0],\n",
       " 'h': [0, 0, 0, 0, 0, 0, 0, 0]}"
      ]
     },
     "execution_count": 74,
     "metadata": {},
     "output_type": "execute_result"
    }
   ],
   "source": [
    "tabuleiro"
   ]
  },
  {
   "cell_type": "code",
   "execution_count": 69,
   "id": "ca485e3d",
   "metadata": {
    "execution": {
     "iopub.execute_input": "2022-05-25T22:43:45.702317Z",
     "iopub.status.busy": "2022-05-25T22:43:45.701760Z",
     "iopub.status.idle": "2022-05-25T22:43:45.706320Z",
     "shell.execute_reply": "2022-05-25T22:43:45.705568Z",
     "shell.execute_reply.started": "2022-05-25T22:43:45.702288Z"
    }
   },
   "outputs": [],
   "source": [
    "from_key = [baby[0][0], int(baby[0][1])]\n",
    "to_key = [baby[1][0], int(baby[1][1])]"
   ]
  },
  {
   "cell_type": "code",
   "execution_count": 70,
   "id": "1848a370",
   "metadata": {
    "execution": {
     "iopub.execute_input": "2022-05-25T22:43:46.944721Z",
     "iopub.status.busy": "2022-05-25T22:43:46.944462Z",
     "iopub.status.idle": "2022-05-25T22:43:46.949388Z",
     "shell.execute_reply": "2022-05-25T22:43:46.948797Z",
     "shell.execute_reply.started": "2022-05-25T22:43:46.944690Z"
    }
   },
   "outputs": [
    {
     "data": {
      "text/plain": [
       "['e2', 'e4']"
      ]
     },
     "execution_count": 70,
     "metadata": {},
     "output_type": "execute_result"
    }
   ],
   "source": [
    "baby"
   ]
  },
  {
   "cell_type": "code",
   "execution_count": 71,
   "id": "59d732c3",
   "metadata": {
    "execution": {
     "iopub.execute_input": "2022-05-25T22:43:47.274762Z",
     "iopub.status.busy": "2022-05-25T22:43:47.274416Z",
     "iopub.status.idle": "2022-05-25T22:43:47.279911Z",
     "shell.execute_reply": "2022-05-25T22:43:47.278579Z",
     "shell.execute_reply.started": "2022-05-25T22:43:47.274736Z"
    }
   },
   "outputs": [
    {
     "data": {
      "text/plain": [
       "['e', 2]"
      ]
     },
     "execution_count": 71,
     "metadata": {},
     "output_type": "execute_result"
    }
   ],
   "source": [
    "from_key"
   ]
  },
  {
   "cell_type": "code",
   "execution_count": 72,
   "id": "f6791154",
   "metadata": {
    "execution": {
     "iopub.execute_input": "2022-05-25T22:43:48.186730Z",
     "iopub.status.busy": "2022-05-25T22:43:48.186470Z",
     "iopub.status.idle": "2022-05-25T22:43:48.191398Z",
     "shell.execute_reply": "2022-05-25T22:43:48.190715Z",
     "shell.execute_reply.started": "2022-05-25T22:43:48.186700Z"
    }
   },
   "outputs": [
    {
     "data": {
      "text/plain": [
       "['e', 4]"
      ]
     },
     "execution_count": 72,
     "metadata": {},
     "output_type": "execute_result"
    }
   ],
   "source": [
    "to_key"
   ]
  },
  {
   "cell_type": "code",
   "execution_count": 75,
   "id": "872d0846",
   "metadata": {
    "execution": {
     "iopub.execute_input": "2022-05-25T22:44:06.006970Z",
     "iopub.status.busy": "2022-05-25T22:44:06.006613Z",
     "iopub.status.idle": "2022-05-25T22:44:06.013681Z",
     "shell.execute_reply": "2022-05-25T22:44:06.012657Z",
     "shell.execute_reply.started": "2022-05-25T22:44:06.006944Z"
    }
   },
   "outputs": [
    {
     "data": {
      "text/plain": [
       "{'a': [0, 0, 0, 0, 0, 0, 0, 0],\n",
       " 'b': [0, 0, 0, 0, 0, 0, 0, 0],\n",
       " 'c': [0, 0, 0, 0, 0, 0, 0, 0],\n",
       " 'd': [0, 0, 0, 0, 0, 0, 0, 0],\n",
       " 'e': [0, 0, 1, 0, 0, 0, 0, 0],\n",
       " 'f': [0, 0, 0, 0, 0, 0, 0, 0],\n",
       " 'g': [0, 0, 0, 0, 0, 0, 0, 0],\n",
       " 'h': [0, 0, 0, 0, 0, 0, 0, 0]}"
      ]
     },
     "execution_count": 75,
     "metadata": {},
     "output_type": "execute_result"
    }
   ],
   "source": [
    "tabuleiro[from_key[0]][from_key[1]] = 1\n",
    "tabuleiro"
   ]
  },
  {
   "cell_type": "code",
   "execution_count": null,
   "id": "c50429ab",
   "metadata": {},
   "outputs": [],
   "source": [
    "\"\"\"Implementação de grafo feita no notebook 01, com algumas mudanças\n",
    "    1. Adição de parametros novos na classe Node\n",
    "    2. Adição do parametro `undirected` para especificar o tipo de grafo \n",
    "\"\"\"\n",
    "\n",
    "class Node:  \n",
    "    def __init__(self, name, color=None, d=None, pi=None):\n",
    "        self.name = name\n",
    "        self.adj_list = []\n",
    "        self.color = color  # estado: visitado, não visitado, explorado\n",
    "        self.d = d  # distancia do vértice origem\n",
    "        self.pi = pi  # vértice predecessor\n",
    "\n",
    "class Graph:\n",
    "    def __init__(self, num_vertices=None, undirected=True):\n",
    "        self.num_vertices = num_vertices\n",
    "        self.nodes = [Node(v) for v in range(num_vertices)]\n",
    "        self.undirected = undirected\n",
    "               \n",
    "    def add_edge(self, source, dest):\n",
    "        self.nodes[source].adj_list.append(self.nodes[dest])\n",
    "        if self.undirected:\n",
    "            self.nodes[dest].adj_list.append(self.nodes[source])\n",
    "        \n",
    "    def print_graph(self):\n",
    "        for node in self.nodes:\n",
    "            print(f\"Node {node.name} -> {[n.name for n in node.adj_list]}\")"
   ]
  },
  {
   "cell_type": "code",
   "execution_count": 54,
   "id": "2604b89b",
   "metadata": {
    "execution": {
     "iopub.execute_input": "2022-05-25T22:35:15.967893Z",
     "iopub.status.busy": "2022-05-25T22:35:15.967624Z",
     "iopub.status.idle": "2022-05-25T22:35:15.972028Z",
     "shell.execute_reply": "2022-05-25T22:35:15.970641Z",
     "shell.execute_reply.started": "2022-05-25T22:35:15.967866Z"
    }
   },
   "outputs": [],
   "source": [
    "V = 8 * 8"
   ]
  },
  {
   "cell_type": "code",
   "execution_count": null,
   "id": "0a63ade6",
   "metadata": {},
   "outputs": [],
   "source": []
  },
  {
   "cell_type": "code",
   "execution_count": null,
   "id": "1e4b1816",
   "metadata": {},
   "outputs": [],
   "source": [
    "g = Graph(V, undirected=True)\n",
    "g.add_edge(0, 1)\n",
    "g.add_edge(1, 2)\n",
    "g.add_edge(1, 3)\n",
    "g.add_edge(2, 4)\n",
    "g.add_edge(2, 5)"
   ]
  },
  {
   "cell_type": "code",
   "execution_count": null,
   "id": "6b1c73ac",
   "metadata": {},
   "outputs": [],
   "source": [
    "def BFS(G, s): \n",
    "\n",
    "    INF = 99999999 # Constants\n",
    "\n",
    "    # Initializes all nodes with white\n",
    "    for u in g.nodes:\n",
    "        u.color = 'white'\n",
    "        u.d = INF\n",
    "        u.pi = None\n",
    "        \n",
    "    # Itializes root\n",
    "    s = g.nodes[s]\n",
    "    s.color = 'gray'\n",
    "    s.d = 0\n",
    "    s.pi = None\n",
    "    \n",
    "    # Create queue\n",
    "    Q = Queue()\n",
    "    Q.enqueue(s)\n",
    "    \n",
    "    # Start search\n",
    "    path = []\n",
    "    print (f\"From vertex: {s.name}\")\n",
    "    while Q.queue != []:\n",
    "        logging.debug(f\"Queue:\")\n",
    "        Q.display()\n",
    "        \n",
    "        u = Q.dequeue()\n",
    "        path.append(u.name)\n",
    "        \n",
    "        for v in u.adj_list:\n",
    "            if v.color == 'white':\n",
    "                v.color = 'gray'\n",
    "                v.d = u.d + 1\n",
    "                Q.enqueue(v)\n",
    "\n",
    "        u.color = 'black'\n",
    "        \n",
    "    return path"
   ]
  }
 ],
 "metadata": {
  "kernelspec": {
   "display_name": "Python 3 (ipykernel)",
   "language": "python",
   "name": "python3"
  },
  "language_info": {
   "codemirror_mode": {
    "name": "ipython",
    "version": 3
   },
   "file_extension": ".py",
   "mimetype": "text/x-python",
   "name": "python",
   "nbconvert_exporter": "python",
   "pygments_lexer": "ipython3",
   "version": "3.7.12"
  }
 },
 "nbformat": 4,
 "nbformat_minor": 5
}

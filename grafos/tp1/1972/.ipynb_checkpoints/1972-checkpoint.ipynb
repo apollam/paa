{
 "cells": [
  {
   "cell_type": "markdown",
   "id": "6a571ee4-a321-4a29-a766-6a9649348b01",
   "metadata": {},
   "source": [
    "# 1972 "
   ]
  },
  {
   "cell_type": "markdown",
   "id": "965ac66e-c120-4f27-8504-32bed81e3227",
   "metadata": {},
   "source": [
    "Nemesis, the goddess of revenge, has raged against Euterpe, the Muse of delight, and has put her in a maze infested by beasts. Now, only Hercules can save Euterpe. Starting his journey at somewhere in the maze, Hercules can only advance to a maze position guarded by a best if he kills the beast. Though terrible, a beast can never leave the position it guards. Furthermore, different beasts may require from Hercules different amounts of energy in order to be killed. Help Hercules to save Euterpe spending the minimum of energy as possible, knowing that he can move only in vertical and horizontal directions and, despite of being an invincible hero and having infinite energy, Hercules cannot destroy the walls of the maze."
   ]
  },
  {
   "cell_type": "markdown",
   "id": "d80d12f1-fda4-45e0-bb79-abc61378f730",
   "metadata": {},
   "source": [
    "## Input\n",
    "The first input line consist of two integers, N and M (2 ≤ N, M ≤ 500), which represent the number of lines and the number of columns in the maze. The next N lines describe the maze and have exactly M characters each, which can be:\n",
    "\n",
    "H, if that is the position where Hercules starts his journey;\n",
    "E, if that is the position where Euterpe is arrested;\n",
    "., if that position is a free position;\n",
    "#, if that position is a wall;\n",
    "an integer X between 1 and 9, if that position is guarded by a best that requires X of Herculean energy in order to be killed."
   ]
  },
  {
   "cell_type": "code",
   "execution_count": null,
   "id": "20ecbcbb-e89a-4b49-bbc6-90b01b5f0826",
   "metadata": {},
   "outputs": [],
   "source": [
    "N maior que 2\n",
    "M menor que 500"
   ]
  },
  {
   "cell_type": "markdown",
   "id": "9e7df2bb-d76e-4cf8-bd1c-68ae18557e11",
   "metadata": {},
   "source": [
    "## Output\n",
    "\n",
    "Print a line containing singly the minimum amount of energy needed for Hercules to get to Euterpe. If it is not possible for Hercules to get to Euterpe, print a line containing singly the word ARTSKJID.\n",
    "\n"
   ]
  },
  {
   "cell_type": "code",
   "execution_count": null,
   "id": "6aa9fe70-94ab-4b38-a183-62b5fa85a733",
   "metadata": {},
   "outputs": [],
   "source": []
  }
 ],
 "metadata": {
  "kernelspec": {
   "display_name": "Python 3 (ipykernel)",
   "language": "python",
   "name": "python3"
  },
  "language_info": {
   "codemirror_mode": {
    "name": "ipython",
    "version": 3
   },
   "file_extension": ".py",
   "mimetype": "text/x-python",
   "name": "python",
   "nbconvert_exporter": "python",
   "pygments_lexer": "ipython3",
   "version": "3.8.5"
  }
 },
 "nbformat": 4,
 "nbformat_minor": 5
}

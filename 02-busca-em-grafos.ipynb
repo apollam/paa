{
 "cells": [
  {
   "cell_type": "markdown",
   "id": "11957dc7-377a-4d47-9d7c-9dd908a69f8e",
   "metadata": {},
   "source": [
    "# Search algorithms"
   ]
  },
  {
   "cell_type": "markdown",
   "id": "9baaa6c3-69ca-4d5b-9b06-0b1ef08f9efd",
   "metadata": {},
   "source": [
    "Estudaremos BFS e DFS."
   ]
  },
  {
   "cell_type": "markdown",
   "id": "c8bf95d4-d16b-40e4-8001-1c9339455f60",
   "metadata": {},
   "source": [
    "## Auxiliar funcs"
   ]
  },
  {
   "cell_type": "code",
   "execution_count": 12,
   "id": "8a99ac76-161a-4303-95ad-9bf11405614b",
   "metadata": {},
   "outputs": [],
   "source": [
    "# Implementação de uma pilha no python, para facilitar a manipulação\n",
    "# dos atributos\n",
    "\n",
    "class Queue:\n",
    "\n",
    "    def __init__(self):\n",
    "        self.queue = []\n",
    "\n",
    "    # Add an element\n",
    "    def enqueue(self, item):\n",
    "        self.queue.append(item)\n",
    "\n",
    "    # Remove an element\n",
    "    def dequeue(self):\n",
    "        if len(self.queue) < 1:\n",
    "            return None\n",
    "        return self.queue.pop(0)\n",
    "\n",
    "    # Display  the queue\n",
    "    def display(self):\n",
    "         logging.debug([v.name for v in self.queue])\n",
    "\n",
    "    def size(self):\n",
    "        return len(self.queue)"
   ]
  },
  {
   "cell_type": "code",
   "execution_count": 13,
   "id": "6881a566-de8c-4d4d-8965-87a91e4a4bd8",
   "metadata": {},
   "outputs": [],
   "source": [
    "class Node:  # Data structure to store adjacency list nodes of the graph\n",
    "    def __init__(self, name, color=None, d=None, pi=None):\n",
    "        self.name = name  # its index\n",
    "        self.adj_list = []\n",
    "        self.color = color\n",
    "        self.d = d  # distance to source\n",
    "        self.pi = pi  # predecessor\n",
    "\n",
    "class GraphUndirected:\n",
    "    def __init__(self, num_vertices=None):\n",
    "        self.num_vertices = num_vertices\n",
    "        self.nodes = [Node(v) for v in range(num_vertices)]\n",
    "               \n",
    "    def add_edge(self, source, dest):\n",
    "        self.nodes[source].adj_list.append(self.nodes[dest])\n",
    "        self.nodes[dest].adj_list.append(self.nodes[source])\n",
    "        \n",
    "    def print_graph(self):\n",
    "        print(\"RAW\")\n",
    "        for node in self.nodes:\n",
    "            print(f\"Node {node.name} -> {node.adj_list}\")\n",
    "        print(\"\\nREADIBLE\")\n",
    "        for node in self.nodes:\n",
    "            print(f\"Node {node.name} -> {[n.name for n in node.adj_list]}\")"
   ]
  },
  {
   "cell_type": "code",
   "execution_count": 14,
   "id": "42c964d1-96a3-4779-b3c8-0c9f15588b3f",
   "metadata": {},
   "outputs": [],
   "source": [
    "# Função usada para facilitar a inicialização do grafo abaixo\n",
    "\n",
    "def initialize_graph():\n",
    "    class Node:\n",
    "        def __init__(self, name, color=None, d=None, pi=None):\n",
    "            self.name = name  # its index\n",
    "            self.adj_list = []\n",
    "            self.color = color\n",
    "            self.d = d  # distance to source\n",
    "            self.pi = pi  # predecessor\n",
    "\n",
    "    class GraphUndirected:\n",
    "        def __init__(self, num_vertices=None):\n",
    "            self.num_vertices = num_vertices\n",
    "            self.nodes = [Node(v) for v in range(num_vertices)]\n",
    "\n",
    "        def add_edge(self, source, dest):\n",
    "            self.nodes[source].adj_list.append(self.nodes[dest])\n",
    "            self.nodes[dest].adj_list.append(self.nodes[source])\n",
    "\n",
    "        def print_graph(self):\n",
    "            print(\"RAW\")\n",
    "            for node in self.nodes:\n",
    "                print(f\"Node {node.name} -> {node.adj_list}\")\n",
    "            print(\"\\nREADIBLE\")\n",
    "            for node in self.nodes:\n",
    "                print(f\"Node {node.name} -> {[n.name for n in node.adj_list]}\")\n",
    "    g = GraphUndirected(6)\n",
    "    g.add_edge(0, 1)\n",
    "    g.add_edge(1, 2)\n",
    "    g.add_edge(1, 3)\n",
    "    g.add_edge(2, 4)\n",
    "    g.add_edge(2, 5)\n",
    "    return g"
   ]
  },
  {
   "cell_type": "markdown",
   "id": "85c9c9e6-cbb6-432f-931c-98099d97a4fe",
   "metadata": {},
   "source": [
    "## Grafo modelo"
   ]
  },
  {
   "cell_type": "markdown",
   "id": "137838f3-f6b6-48c1-aab7-402fb446d8b0",
   "metadata": {},
   "source": [
    "<img src=\"./img/grafo-directed-unweighted.png\" alt=\"drawing\" width=\"300\"/>"
   ]
  },
  {
   "cell_type": "markdown",
   "id": "5f9b241d-ac0d-4e2e-aeb8-03a063ac344b",
   "metadata": {},
   "source": [
    "## Run BFS"
   ]
  },
  {
   "cell_type": "code",
   "execution_count": 15,
   "id": "514fed7e-da5e-4131-bb70-69ef060aff9d",
   "metadata": {},
   "outputs": [],
   "source": [
    "import logging\n",
    "# logging.basicConfig(level=logging.DEBUG)  # Have to restart for this to work\n",
    "logging.basicConfig(level=logging.INFO)"
   ]
  },
  {
   "cell_type": "code",
   "execution_count": 18,
   "id": "cd85c470-3f85-49b1-ada5-3177d86d8800",
   "metadata": {},
   "outputs": [],
   "source": [
    "def BFS(G, s): \n",
    "\n",
    "    INF = 99999999 # Constants\n",
    "\n",
    "    # Initializes all nodes with white\n",
    "    for u in g.nodes:\n",
    "        u.color = 'white'\n",
    "        u.d = INF\n",
    "        u.pi = None\n",
    "        \n",
    "    # Itializes root\n",
    "    s = g.nodes[s]\n",
    "    s.color = 'gray'\n",
    "    s.d = 0\n",
    "    s.pi = None\n",
    "    \n",
    "    # Create queue\n",
    "    Q = Queue()\n",
    "    Q.enqueue(s)\n",
    "    \n",
    "    # Start search\n",
    "    path = []\n",
    "    print (f\"Do vértice: {s.name}\")\n",
    "    while Q.queue != []:\n",
    "        logging.debug(f\"Queue:\")\n",
    "        Q.display()\n",
    "        \n",
    "        u = Q.dequeue()\n",
    "        path.append(u.name)\n",
    "        \n",
    "        logging.debug(f\"Dequeuing: {u.name}\")\n",
    "        for v in u.adj_list:\n",
    "            logging.debug(f\"Working with vertext: {v.name}\")\n",
    "            if v.color == 'white':\n",
    "                v.color = 'gray'\n",
    "                v.d = u.d + 1\n",
    "                Q.enqueue(v)\n",
    "                logging.debug(f\"Queuing: {v.name}\")\n",
    "\n",
    "        logging.debug(\"\\n\")\n",
    "        u.color = 'black'\n",
    "        \n",
    "    return path"
   ]
  },
  {
   "cell_type": "code",
   "execution_count": 19,
   "id": "6c115163-f225-4f4c-a559-34e81e4526c3",
   "metadata": {},
   "outputs": [
    {
     "name": "stdout",
     "output_type": "stream",
     "text": [
      "Do vértice: 2\n"
     ]
    },
    {
     "data": {
      "text/plain": [
       "[2, 1, 4, 5, 0, 3]"
      ]
     },
     "execution_count": 19,
     "metadata": {},
     "output_type": "execute_result"
    }
   ],
   "source": [
    "g = initialize_graph()\n",
    "BFS(G=g, s=2)"
   ]
  },
  {
   "cell_type": "markdown",
   "id": "e253c5fa-541e-46b4-841b-c3f14f388427",
   "metadata": {},
   "source": [
    "<img src=\"./img/grafo-directed-unweighted.png\" alt=\"drawing\" width=\"200\"/>"
   ]
  },
  {
   "cell_type": "markdown",
   "id": "2ccc0aa4-26a2-4717-96c4-fe46cf2b9438",
   "metadata": {},
   "source": [
    "## Run DFS"
   ]
  },
  {
   "cell_type": "code",
   "execution_count": 21,
   "id": "112c0f6a-ac39-401d-9269-6acc71bcaa83",
   "metadata": {},
   "outputs": [
    {
     "name": "stdout",
     "output_type": "stream",
     "text": [
      "1 2 4 5 3 "
     ]
    }
   ],
   "source": [
    "def DFS(G):\n",
    "    for u in G.nodes:\n",
    "        u.color = 'white'\n",
    "        u.pi = None\n",
    "\n",
    "    for u in G.nodes:\n",
    "        if u.color == 'white':\n",
    "            DFS_visit(G, u)\n",
    "\n",
    "def DFS_visit(G, u):\n",
    "    u.color = 'gray'\n",
    "    for v in u.adj_list:\n",
    "        if v.color == 'white':\n",
    "            # print(f\"From source {u.name} next vertices is: {v.name}\")\n",
    "            print(f\"{v.name}\", end=\" \")\n",
    "            v.pi = u\n",
    "            DFS_visit(G, v)\n",
    "    u.color = 'black'\n",
    "\n",
    "g = initialize_graph()\n",
    "DFS(G=g)"
   ]
  },
  {
   "cell_type": "markdown",
   "id": "b7d90237-4d3e-46cf-a12c-2e9e80f937cb",
   "metadata": {},
   "source": [
    "<img src=\"./img/grafo-directed-unweighted.png\" alt=\"drawing\" width=\"200\"/>"
   ]
  },
  {
   "cell_type": "code",
   "execution_count": 16,
   "id": "7d5349e6-195e-484e-9963-7230e9367afe",
   "metadata": {},
   "outputs": [
    {
     "name": "stdout",
     "output_type": "stream",
     "text": [
      "2 1 0 1 3 1 2 4 2 5 2 "
     ]
    }
   ],
   "source": [
    "def DFS_stack(g, s):\n",
    "    for u in g.nodes:\n",
    "        u.color = 'white'\n",
    "        u.pi = None\n",
    "\n",
    "    s = g.nodes[s]\n",
    "    P = [s]\n",
    "    while P != []:\n",
    "        current = P[-1]\n",
    "        if current.color == 'white':\n",
    "            current.color = 'grey'\n",
    "        print(current.name, end=' ')\n",
    "\n",
    "        pop = True\n",
    "        for adjacent in current.adj_list:\n",
    "            if adjacent.color == 'white':\n",
    "                P.append(adjacent)\n",
    "                adjacent.pi = current\n",
    "                adjacent.color = 'grey'\n",
    "                pop = False\n",
    "                break\n",
    "\n",
    "        if pop:  # only pops when all adjacent were visited\n",
    "            P.pop()\n",
    "\n",
    "g = initialize_graph()\n",
    "DFS_stack(g, 2)"
   ]
  },
  {
   "cell_type": "markdown",
   "id": "aa7212e5-7e63-4293-a378-cced98c36411",
   "metadata": {},
   "source": [
    "<img src=\"./img/grafo-directed-unweighted.png\" alt=\"drawing\" width=\"200\"/>"
   ]
  },
  {
   "cell_type": "code",
   "execution_count": 22,
   "id": "b335fa23-2174-4be1-b961-28b4b90632ba",
   "metadata": {},
   "outputs": [],
   "source": [
    "def DFS_stack_other(G, u):\n",
    "    for n in g.nodes:\n",
    "        n.color = 'WHITE'\n",
    "        n.pi = None\n",
    "        \n",
    "    u = g.nodes[u]\n",
    "    STACK = [u]\n",
    "    counter = 0\n",
    "    \n",
    "    while STACK != []:\n",
    "        u = STACK[-1]\n",
    "        print(u.name, end=' ')\n",
    "        counter += 1\n",
    "        if u.color == 'GRAY':\n",
    "            u.color = 'BLACK'\n",
    "            STACK.pop()\n",
    "            continue\n",
    "            \n",
    "        if u.color == 'WHITE':\n",
    "            u.color = 'GRAY'\n",
    "\n",
    "        for v in u.adj_list:\n",
    "            if v.color == 'WHITE':\n",
    "                v.pi = u\n",
    "                STACK.append(v)"
   ]
  },
  {
   "cell_type": "code",
   "execution_count": 23,
   "id": "c128059b-ebe9-4a89-a703-6946a5780fa9",
   "metadata": {},
   "outputs": [
    {
     "name": "stdout",
     "output_type": "stream",
     "text": [
      "2 5 5 4 4 1 3 3 0 0 1 2 "
     ]
    }
   ],
   "source": [
    "g = initialize_graph()\n",
    "DFS_stack_other(g, 2)"
   ]
  },
  {
   "cell_type": "markdown",
   "id": "2fc0dfc9-8624-412c-936e-fa81d6de2399",
   "metadata": {},
   "source": [
    "<img src=\"./img/grafo-directed-unweighted.png\" alt=\"drawing\" width=\"200\"/>"
   ]
  },
  {
   "cell_type": "code",
   "execution_count": null,
   "id": "976d2d2c-12a3-47d7-90c3-8bfefc28247f",
   "metadata": {},
   "outputs": [],
   "source": []
  }
 ],
 "metadata": {
  "kernelspec": {
   "display_name": "Python 3 (ipykernel)",
   "language": "python",
   "name": "python3"
  },
  "language_info": {
   "codemirror_mode": {
    "name": "ipython",
    "version": 3
   },
   "file_extension": ".py",
   "mimetype": "text/x-python",
   "name": "python",
   "nbconvert_exporter": "python",
   "pygments_lexer": "ipython3",
   "version": "3.8.5"
  }
 },
 "nbformat": 4,
 "nbformat_minor": 5
}
